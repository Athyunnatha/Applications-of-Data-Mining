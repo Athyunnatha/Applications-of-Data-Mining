{
  "nbformat": 4,
  "nbformat_minor": 0,
  "metadata": {
    "colab": {
      "provenance": [],
      "authorship_tag": "ABX9TyPUoXk7oqQ5e/bNLkGYi1Do",
      "include_colab_link": true
    },
    "kernelspec": {
      "name": "python3",
      "display_name": "Python 3"
    },
    "language_info": {
      "name": "python"
    }
  },
  "cells": [
    {
      "cell_type": "markdown",
      "metadata": {
        "id": "view-in-github",
        "colab_type": "text"
      },
      "source": [
        "<a href=\"https://colab.research.google.com/github/Athyunnatha/Applications-of-Data-Mining/blob/main/ASSIGNMENT%20WEEK6.ipynb\" target=\"_parent\"><img src=\"https://colab.research.google.com/assets/colab-badge.svg\" alt=\"Open In Colab\"/></a>"
      ]
    },
    {
      "cell_type": "code",
      "source": [
        "import pandas as pd\n",
        "from sklearn.preprocessing import LabelEncoder, OneHotEncoder\n",
        "# Create custom data\n",
        "data = {\n",
        "    'Category': ['Fruit', 'Vegetable', 'Fruit', 'Fruit', 'Vegetable', 'Grain'],\n",
        "    'Price': [10, 5, 12, 9, 6, 7]\n",
        "}\n",
        "# Create DataFrame\n",
        "df = pd.DataFrame(data)\n",
        "# Label Encoding\n",
        "label_encoder = LabelEncoder()\n",
        "df['Category_Label_Encoded'] = label_encoder.fit_transform(df['Category'])\n",
        "# One-hot Encoding using get_dummies\n",
        "one_hot_encoded = pd.get_dummies(df['Category'], prefix='Category')\n",
        "df = pd.concat([df, one_hot_encoded], axis=1)\n",
        "# Display the resulting DataFrame\n",
        "print(df)"
      ],
      "metadata": {
        "colab": {
          "base_uri": "https://localhost:8080/"
        },
        "id": "CrcpGKiqSbGl",
        "outputId": "3b4b75d5-29ee-4a38-adc1-92a083c777c1"
      },
      "execution_count": 2,
      "outputs": [
        {
          "output_type": "stream",
          "name": "stdout",
          "text": [
            "    Category  Price  Category_Label_Encoded  Category_Fruit  Category_Grain  \\\n",
            "0      Fruit     10                       0            True           False   \n",
            "1  Vegetable      5                       2           False           False   \n",
            "2      Fruit     12                       0            True           False   \n",
            "3      Fruit      9                       0            True           False   \n",
            "4  Vegetable      6                       2           False           False   \n",
            "5      Grain      7                       1           False            True   \n",
            "\n",
            "   Category_Vegetable  \n",
            "0               False  \n",
            "1                True  \n",
            "2               False  \n",
            "3               False  \n",
            "4                True  \n",
            "5               False  \n"
          ]
        }
      ]
    },
    {
      "cell_type": "code",
      "source": [
        "import pandas as pd\n",
        "from datetime import datetime\n",
        "# Create custom data\n",
        "data = {\n",
        "    'Employee': ['John', 'Sara', 'Mike', 'Emily', 'James'],\n",
        "    'Role': ['Manager', 'Developer', 'Designer', 'Developer', 'Analyst'],\n",
        "    'Start_Date': ['2015-05-01', '2018-08-15', '2019-02-23', '2020-01-10', '2017-07-05']\n",
        "}\n",
        "# Create DataFrame\n",
        "df = pd.DataFrame(data)\n",
        "# Convert Start_Date to datetime\n",
        "df['Start_Date'] = pd.to_datetime(df['Start_Date'])\n",
        "# Calculate Years of Experience\n",
        "current_year = datetime.now().year\n",
        "df['Years_of_Experience'] = current_year - df['Start_Date'].dt.year\n",
        "# If the current year is before the employee's start date in the year, subtract 1 from the experience\n",
        "df.loc[(df['Start_Date'].dt.month > datetime.now().month) |\n",
        "       ((df['Start_Date'].dt.month == datetime.now().month) &\n",
        "        (df['Start_Date'].dt.day > datetime.now().day)), 'Years_of_Experience'] -= 1\n",
        "# Display the resulting DataFrame\n",
        "print(df)"
      ],
      "metadata": {
        "colab": {
          "base_uri": "https://localhost:8080/"
        },
        "id": "tty8FWPVTSrt",
        "outputId": "4ed3f79c-4f41-488b-bc06-d3975531567e"
      },
      "execution_count": 3,
      "outputs": [
        {
          "output_type": "stream",
          "name": "stdout",
          "text": [
            "  Employee       Role Start_Date  Years_of_Experience\n",
            "0     John    Manager 2015-05-01                    9\n",
            "1     Sara  Developer 2018-08-15                    6\n",
            "2     Mike   Designer 2019-02-23                    6\n",
            "3    Emily  Developer 2020-01-10                    5\n",
            "4    James    Analyst 2017-07-05                    7\n"
          ]
        }
      ]
    },
    {
      "cell_type": "code",
      "source": [
        "import pandas as pd\n",
        "# Create custom data\n",
        "data = {\n",
        "    'Department': ['HR', 'HR', 'Sales', 'Sales', 'Engineering', 'Engineering', 'Engineering'],\n",
        "    'Employee': ['John', 'Sara', 'Mike', 'Emma', 'Alice', 'Bob', 'Charlie'],\n",
        "    'Salary': [50000, 55000, 60000, 65000, 70000, 72000, 75000]\n",
        "}\n",
        "# Create DataFrame\n",
        "df = pd.DataFrame(data)\n",
        "# Group by and aggregate\n",
        "grouped = df.groupby('Department').agg({'Salary': ['sum', 'mean']})\n",
        "print(\"Grouped Data:\\n\", grouped)\n",
        "# Pivot table\n",
        "pivot = df.pivot_table(index='Department', values='Salary', aggfunc=['sum', 'mean'])\n",
        "print(\"\\nPivot Table:\\n\", pivot)"
      ],
      "metadata": {
        "colab": {
          "base_uri": "https://localhost:8080/"
        },
        "id": "zVOkLMbWT-du",
        "outputId": "c928a08f-3ed9-4a24-f37e-aefd92425b41"
      },
      "execution_count": 5,
      "outputs": [
        {
          "output_type": "stream",
          "name": "stdout",
          "text": [
            "Grouped Data:\n",
            "              Salary              \n",
            "                sum          mean\n",
            "Department                       \n",
            "Engineering  217000  72333.333333\n",
            "HR           105000  52500.000000\n",
            "Sales        125000  62500.000000\n",
            "\n",
            "Pivot Table:\n",
            "                 sum          mean\n",
            "             Salary        Salary\n",
            "Department                       \n",
            "Engineering  217000  72333.333333\n",
            "HR           105000  52500.000000\n",
            "Sales        125000  62500.000000\n"
          ]
        }
      ]
    }
  ]
}